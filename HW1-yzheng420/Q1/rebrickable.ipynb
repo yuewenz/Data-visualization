{
 "cells": [
  {
   "cell_type": "markdown",
   "metadata": {},
   "source": [
    "# HW1 Q1.1 [30 pts]\n",
    "\n",
    "\n",
    "\n",
    "## Important Notices\n",
    "\n",
    "<div class=\"alert alert-block alert-danger\">\n",
    "    WARNING: Do <strong>NOT</strong> add any cells to this Jupyter Notebook, because that will crash the autograder.\n",
    "</div>\n",
    "\n",
    "\n",
    "All instructions, code comments, etc. in this notebook **are part of the assignment instructions**. That is, if there is instructions about completing a task in this notebook, that task is not optional.  \n",
    "\n",
    "\n",
    "\n",
    "<div class=\"alert alert-block alert-info\">\n",
    "    You <strong>must</strong> implement the following functions in this notebook to receive credit.\n",
    "</div>\n",
    "\n",
    "\n",
    "`get_colors()`\n",
    "\n",
    "`user()`\n",
    "\n",
    "`get_sets()`\n",
    "\n",
    "`get_top_parts()`\n",
    "\n",
    "`build_graph()`\n",
    "\n",
    "`in_degree_for_node()`\n",
    "\n",
    "`out_degree_for_node()`\n",
    "\n",
    "`max_in_degree()`\n",
    "\n",
    "`average_in_degree()`\n",
    "\n",
    "`filter_graph_min_in_degree()`\n",
    "\n",
    "Each method will be auto-graded using different sets of parameters or data, to ensure that values are not hard-coded.  You may assume we will only use your code to work with data from Rebrickable during auto-grading. You do not need to write code for unreasonable scenarios, e.g., handling a non-existent node id, or an invalid quantity specification.  \n",
    "\n",
    "We will import and auto-grade the two cells containing the `Graph` class and the `get_colors()` function since they contain all of the required implementations.  We will **NOT** grade the other cells.    \n",
    "\n",
    "Since the overall correctness of your code may require multiple methods to work together correctly (i.e., some methods are interdepedent), implementing only a subset of the methods likely will lead to a low score.\n",
    "\n",
    "You **MUST** complete Q1.1 before Q1.2, since the output files from this notebook are used in Q1.2.  \n",
    "\n",
    "### Helper functions\n",
    "\n",
    "You are permitted to write additional helper functions or methods, or use additional instance variables within the `Graph` class so long as the previously described functions work as required.  "
   ]
  },
  {
   "cell_type": "markdown",
   "metadata": {},
   "source": [
    "<div class=\"alert alert-block alert-danger\">\n",
    "    Do <strong>NOT</strong> remove or modify the following utility functions:\n",
    "</div>\n",
    "\n",
    "\n",
    "`show_graph_info()`\n",
    "\n",
    "`write_nodes_file()`\n",
    "\n",
    "`write_edges_file()`\n",
    "\n",
    "`write_adjacency_list()`\n",
    "\n",
    "However, you should verify that they work properly with the rest of your `Graph` class implementation. _i.e_., ensure that calling `write_edges_file('graph.csv')` is writing out a _.csv_ representation of your graph.  We will call these functions during auto-grading to write out your graph files.  "
   ]
  },
  {
   "cell_type": "markdown",
   "metadata": {},
   "source": [
    "## Rebrickable Familiarization - Acquiring Domain Knowledge\n",
    "#### Watch the introduction [video](https://youtu.be/t1DtZyyVJvQ). "
   ]
  },
  {
   "cell_type": "markdown",
   "metadata": {
    "pycharm": {
     "name": "#%% md\n"
    }
   },
   "source": [
    "## a. [2 pts] Warmup - Download data using the Rebrickable API\n",
    "\n",
    "First, reference the example here on use of `http.client` \n",
    "\n",
    "https://docs.python.org/3/library/http.client.html#examples\n",
    "\n",
    "This section is important for you to gain an understanding of how to get data from Rebrickable.  In the following sections, you will download information about Lego Sets and Parts to build construct a graph.  \n",
    "\n",
    "As a warm-up, complete the method to download a list of part colors from the Rebrickable API.  In the API docs, find the first API call under 'lego'.  Experiment with the 'Try it out!' feature to get a sense of what data it will return.  \n",
    "\n",
    "The function must accept the following arguments:\n",
    "\n",
    "`quantity`:  a positive integer that limits the amount of returned results. _e.g_., the call `get_colors(quantity=5, api_key = '999asdf')` would return a list of 5 colors.  \n",
    "\n",
    "`api_key`:  a string that accepts a Rebrickable API key.  Use your api key that we instructed you to get in Q1.1 of the HW1 document.  After you implement this function, you may delete your api key from this Jupyter notebook. We will use our own key for grading.  \n",
    "\n"
   ]
  },
  {
   "cell_type": "code",
   "execution_count": 1,
   "metadata": {
    "pycharm": {
     "is_executing": false,
     "name": "#%%\n"
    }
   },
   "outputs": [
    {
     "name": "stdout",
     "output_type": "stream",
     "text": [
      "['Black', 'Blue', 'Green', 'Dark Turquoise', 'Red']\n"
     ]
    }
   ],
   "source": [
    "import http.client\n",
    "import json\n",
    "import time\n",
    "import timeit\n",
    "import pickle\n",
    "\n",
    "def get_colors(quantity=5, api_key=None):\n",
    "    conn = http.client.HTTPSConnection(\"rebrickable.com\")\n",
    "    key = api_key\n",
    "    auth_token = {'Authorization': 'key '+key}\n",
    "    payload = \"{}\"\n",
    "    headers = auth_token\n",
    "    params = '/api/v3/lego/colors/?page_size='+str(quantity) # modify this so that results are limited by the `quantity` argument.\n",
    "    conn.request(\"GET\", params, payload, headers=headers)\n",
    "    time.sleep(1)\n",
    "    r1 = conn.getresponse()\n",
    "    data1 = r1.read()\n",
    "    list1=json.loads(data1.decode('utf-8'))\n",
    "    #print(list1)\n",
    "    list1=list1['results']\n",
    "    #list1=sorted(list1,key=lambda x: x['name'],reverse=True)\n",
    "    #print(list1)\n",
    "    a=[]\n",
    "    for i in list1:\n",
    "        a.append(i['name'])\n",
    "    return a                \n",
    "\n",
    "    #return NotImplemented\n",
    "\n",
    "# uncomment these next 2 lines to test your implementation\n",
    "colors = get_colors(quantity=5, api_key='5800fd01e97058e08d11c81efa656ba5')\n",
    "print(colors)\n",
    "\n",
    "# The following is sample output of the get_colors() function and is used only to exmplify \n",
    "# the format of the results for this cell. \n",
    "# you may comment out or delete the below line.\n",
    "#print(\"\\n-------------sample-output-------------\")\n",
    "#print(['Fuschia', 'Magenta', 'Violet', 'Pink', 'White'])\n"
   ]
  },
  {
   "cell_type": "markdown",
   "metadata": {
    "pycharm": {
     "name": "#%% md\n"
    }
   },
   "source": [
    "### Class `Graph`\n",
    "\n",
    "You will implement the class step-by-step in the instructions contained **below for parts b-d**.  Note that you will need to re-run this cell after you make changes to your code in class `Graph` in order for the subsequent cells below to run properly.  If this is your first time running this notebook, make sure to run this cell before continuing so that the examples below will work.  \n",
    "\n",
    "If you need to add additional modules for your assignment, add them at the beginning of this cell.  You may only use modules and libraries from the [Python Standard Library](https://docs.python.org/3/library/).  "
   ]
  },
  {
   "cell_type": "code",
   "execution_count": 2,
   "metadata": {
    "pycharm": {
     "is_executing": false
    }
   },
   "outputs": [],
   "source": [
    "import http.client\n",
    "import json\n",
    "import time\n",
    "import timeit\n",
    "import pickle\n",
    "\n",
    "class Graph:\n",
    "\n",
    "    def __init__(self, with_file=None): \n",
    "\n",
    "        if with_file is None:\n",
    "            self.adjacency_list = {}\n",
    "        else:   \n",
    "            with open(with_file, 'rb') as handle:\n",
    "                self.adjacency_list = pickle.load(handle)\n",
    "                \n",
    "        self.api_key = None\n",
    "    \n",
    "    @staticmethod\n",
    "    def user():\n",
    "        \"\"\"\n",
    "        :return: string\n",
    "        your GTUsername, NOT your 9-Digit GTId  \n",
    "        \"\"\"         \n",
    "        return 'yzheng420'\n",
    "\n",
    "    def show_graph_info(self):\n",
    "        \"\"\"\n",
    "        :return: none\n",
    "        prints out the contents of the adjacency list \n",
    "        \"\"\"\n",
    "        num_nodes = len(self.adjacency_list)\n",
    "        print(\"nodes: \" + str(num_nodes))\n",
    "        \n",
    "        num_edges = 0\n",
    "        for n in self.adjacency_list.keys():\n",
    "            num_edges += len(self.adjacency_list[n])\n",
    "        print(\"edges: \" + str(num_edges))\n",
    "        \n",
    "        print(\"------------------ADJACENCY--LIST---------------------\")\n",
    "        for n in self.adjacency_list.keys():\n",
    "            print(str(n) + \": \" + str(self.adjacency_list[n]))\n",
    "\n",
    "\n",
    "    def get_sets(self, quantity=5, order_by=None):\n",
    "        \n",
    "        \"\"\"\n",
    "        :param quantity: integer \n",
    "        :param order_by: string\n",
    "        :return: list of strings, each string is a set_num representing a set.   \n",
    "        \"\"\"\n",
    "        \n",
    "        if not isinstance(order_by, str):            \n",
    "            raise ValueError(\"order_by argument must be a string\")        \n",
    "\n",
    "        lego_sets = []\n",
    "        \n",
    "        ################################################################\n",
    "        #    code to download and process lego sets data               #\n",
    "        #                                                              # \n",
    "        conn = http.client.HTTPSConnection(\"rebrickable.com\")\n",
    "        key = self.api_key\n",
    "        auth_token = {'Authorization': 'key '+key}\n",
    "        payload = \"{}\"\n",
    "        headers = auth_token\n",
    "        params = '/api/v3/lego/sets/?page_size='+str(quantity)+'&ordering='+order_by # modify this so that results are limited by the `quantity` argument.\n",
    "        conn.request(\"GET\", params, payload, headers=headers)\n",
    "        time.sleep(1)\n",
    "        r2 = conn.getresponse()\n",
    "        data2 = r2.read()\n",
    "        list2=json.loads(data2.decode('utf-8'))\n",
    "        #print(list2)\n",
    "        list2=list2['results']\n",
    "        #print(list2)\n",
    "        for i in list2:\n",
    "            #print(i)\n",
    "            lego_sets.append(i['set_num'])\n",
    "        ################################################################\n",
    "\n",
    "        return lego_sets\n",
    "\n",
    "    \n",
    "    def get_top_parts(self, set_num, max_top_parts=5):\n",
    "        \n",
    "        \"\"\"\n",
    "        :param set_num: string, a valid set_num\n",
    "        :param max_top_parts: integer, the number of parts to retrieve for the set_num  \n",
    "        :return: list of strings, each string is a part_num used by the set. \n",
    "        \"\"\"\n",
    "        \n",
    "        if not isinstance(set_num, str):            \n",
    "            raise ValueError(\"set_num must be a string\")        \n",
    "            \n",
    "        top_parts = []\n",
    "    \n",
    "        #################################################################\n",
    "        #       code to download and process lego parts data            #\n",
    "        #                                                               #\n",
    "        conn = http.client.HTTPSConnection(\"rebrickable.com\")\n",
    "        key = self.api_key\n",
    "        auth_token = {'Authorization': 'key '+key}\n",
    "        payload = \"{}\"\n",
    "        headers = auth_token\n",
    "        params = '/api/v3/lego/sets/'+str(set_num)+'/parts/?page_size=1000'# modify this so that results are limited by the `quantity` argument.\n",
    "        conn.request(\"GET\", params, payload, headers=headers)\n",
    "        time.sleep(1)\n",
    "        r3 = conn.getresponse()\n",
    "        data3 = r3.read()\n",
    "        list3=json.loads(data3)\n",
    "        spare=[]\n",
    "        list3=list3['results']\n",
    "        for i in list3:\n",
    "            if i['is_spare']==False:\n",
    "                spare.append(i)\n",
    "        spare=sorted(spare,key=lambda x:x['quantity'],reverse=True)\n",
    "        #print(spare)\n",
    "        spare_quantity={}\n",
    "        for i in spare:\n",
    "            if i['part']['part_num'] not in spare_quantity.keys():\n",
    "                spare_quantity[i['part']['part_num']]=i['quantity']\n",
    "            else:\n",
    "                spare_quantity[i['part']['part_num']]+=i['quantity']\n",
    "        spare_quantity = sorted(spare_quantity.items(), key=lambda x: x[1],reverse=True)\n",
    "        #print(spare_quantity[0:max_top_parts])\n",
    "        spare_quantity=spare_quantity[0:max_top_parts]\n",
    "        #print(type(spare_quantity))\n",
    "        #top_parts = list(spare_quantity.keys())[0:max_top_parts] \n",
    "        for x in spare_quantity:\n",
    "            top_parts.append(x[0])\n",
    "                \n",
    "            \n",
    "            \n",
    "            \n",
    "            \n",
    "            #top_parts.append(i['part']['part_num'])\n",
    "        #top_parts=top_parts[0:max_top_parts]\n",
    "        #print(top_parts)\n",
    "        #################################################################        \n",
    "        \n",
    "        return top_parts\n",
    "\n",
    "\n",
    "    def build_graph(self, sets_quantity=5, top_parts_quantity=5, set_ordering=None):\n",
    "        \n",
    "        \"\"\"\n",
    "        Downloads data and builds an adjacency list representation of a graph.\n",
    "        :param sets_quantity: integer, passed to the get_sets() `quantity` argument\n",
    "        :param top_parts_quantity: integer, passed to the get_top_parts() 'max_top_parts' argument. \n",
    "        :param set_ordering: string, passed to the get_sets() 'order_by' argument.\n",
    "        :return: None\n",
    "        \"\"\"\n",
    "        \n",
    "        set_nums = self.get_sets(quantity=sets_quantity, order_by=set_ordering)\n",
    "        \n",
    "        for set_num in set_nums:  \n",
    "            \n",
    "            #################################################################\n",
    "            #       code to add Lego Set as a node to the adjacency list    #\n",
    "            #                                                               # \n",
    "            if set_num not in self.adjacency_list:\n",
    "                self.adjacency_list[set_num]=set()\n",
    "            #################################################################  \n",
    "            top_parts = self.get_top_parts(set_num, max_top_parts=top_parts_quantity)\n",
    "\n",
    "            for part_num in top_parts:\n",
    "\n",
    "                #################################################################\n",
    "                #       code to add Lego as a node to the adjacency list        #\n",
    "                #       then, add edges from lego sets to parts                 # \n",
    "                if part_num not in self.adjacency_list:\n",
    "                    self.adjacency_list[part_num]=set()\n",
    "                self.adjacency_list[set_num].add(part_num)\n",
    "                #################################################################  \n",
    "                pass\n",
    "\n",
    "\n",
    "    def out_degree_for_node(self, node_id):\n",
    "        \"\"\"\n",
    "        Calculates the out-degree for a valid node id present in the adjacency list (graph)\n",
    "        :param node_id: string\n",
    "        :return: integer, the calculated out-degree\n",
    "        \"\"\"\n",
    "        if not isinstance(node_id, str):            \n",
    "            raise ValueError(\"node_id must be a string\")\n",
    "        if node_id not in self.adjacency_list.keys():\n",
    "            raise KeyError(\"node_id not found in adjacency list\")\n",
    "        \n",
    "        #################################################################\n",
    "        #       code to calculate and return out-degree.                #\n",
    "        #                                                               # \n",
    "        node_length=len(self.adjacency_list[node_id])\n",
    "        #################################################################   \n",
    "        return node_length\n",
    "    \n",
    "\n",
    "    def in_degree_for_node(self, node_id):\n",
    "        \"\"\"\n",
    "        Calculates the in-degree for a valid node id present in the adjacency list (graph)\n",
    "        :param node_id: string\n",
    "        :return: integer, the calculated in-degree\n",
    "        \"\"\"\n",
    "        if not isinstance(node_id, str):            \n",
    "            raise ValueError(\"node_id must be a string\")\n",
    "        if node_id not in self.adjacency_list.keys():\n",
    "            raise KeyError(\"node_id not found in adjacency list\")\n",
    "        \n",
    "        #################################################################\n",
    "        #       code to calculate and return in-degree.                 #\n",
    "        #                                                               #\n",
    "        in_degree=0\n",
    "        for i in self.adjacency_list.keys():\n",
    "            if node_id in self.adjacency_list[i]:\n",
    "                in_degree+=1\n",
    "        #################################################################   \n",
    "        return in_degree\n",
    "   \n",
    "    \n",
    "    def max_in_degree(self):\n",
    "        \n",
    "        \"\"\" \n",
    "        Find the node id and in-degree for the node having the highest in degree\n",
    "        :return: tuple, (string, integer).  The string is the node id, the integer is the in-degree\n",
    "          \n",
    "        \"\"\"\n",
    "\n",
    "        #################################################################\n",
    "        #       code to calculate and return max in-degree.             #\n",
    "        #                                                               #\n",
    "        node_id_dic={}\n",
    "        list5=self.adjacency_list.keys()\n",
    "        for nodeid in list5:\n",
    "            node=self.in_degree_for_node(nodeid)\n",
    "            node_id_dic[nodeid]=node\n",
    "        maximum = max(node_id_dic, key=node_id_dic.get)\n",
    "        #################################################################       \n",
    "    \n",
    "        return maximum, node_id_dic[maximum]\n",
    "    \n",
    "    def average_in_degree(self):\n",
    "        \"\"\"\n",
    "        Calculate the average in-degree of all nodes having an in_degree > 0.    \n",
    "        :return: decimal\n",
    "        \"\"\"\n",
    "        #################################################################\n",
    "        #       code to calculate and return avg in-degree.             #\n",
    "        #                                                               #\n",
    "        node_sum=[]\n",
    "        list_node=self.adjacency_list.keys()\n",
    "        for nodeid1 in list_node:\n",
    "            node1=self.in_degree_for_node(nodeid1)\n",
    "            if node1>0:\n",
    "                node_sum.append(node1)\n",
    "        avg=sum(node_sum) / len(node_sum) \n",
    "        #################################################################     \n",
    "        return avg\n",
    "\n",
    "\n",
    "    def filter_graph_min_in_degree(self, in_degree=0):   \n",
    "        \"\"\"  \n",
    "        Removes nodes in the adjacency list having an in-degree > 0 AND having an in-degree < in_degree param.\n",
    "        Does not remove nodes with an in-degree = 0 \n",
    "        :param in_degree: integer \n",
    "        :return: None\n",
    "        \"\"\"\n",
    "        \n",
    "        #################################################################\n",
    "        #                      code to filter graph                     #\n",
    "        #                                                               # \n",
    "        node_number={}\n",
    "        node_list=self.adjacency_list.keys()\n",
    "        #print(node_list)\n",
    "        for nodeid2 in node_list:\n",
    "            node2=self.in_degree_for_node(nodeid2)\n",
    "            if node2<in_degree and node2>0:\n",
    "                node_number[nodeid2]=(node2)\n",
    "        #print(node_number)\n",
    "        for i in node_number.keys():\n",
    "            if i in node_list:\n",
    "                del self.adjacency_list[i]\n",
    "        #print(self.adjacency_list.values())\n",
    "            for x in self.adjacency_list.values():\n",
    "                if i in x:\n",
    "                    x.remove(i)\n",
    "        #################################################################       \n",
    "        pass\n",
    "\n",
    "    def write_edges_file(self,  path=\"graph.csv\"):\n",
    "        \"\"\"\n",
    "        write all edges out as .csv\n",
    "        :param path: string\n",
    "        :return: None\n",
    "        \"\"\"\n",
    "        edges_path = path\n",
    "        edges_file = open(edges_path, 'w')\n",
    "\n",
    "        edges_file.write(\"source\"+\",\"+\"target\"+\"\\n\")\n",
    "        \n",
    "        for n in self.adjacency_list.keys():\n",
    "            adjacent_nodes = self.adjacency_list[n]\n",
    "            for an in adjacent_nodes:\n",
    "                edges_file.write(str(n) + \",\" + str(an) + \"\\n\")\n",
    "        \n",
    "        edges_file.close()\n",
    "        print(\"finished writing edges as \"+ path)\n",
    "\n",
    "\n",
    "    def write_adjacency_list(self, path=\"graph.pickle\"):  \n",
    "        \"\"\"\n",
    "        Serialize and write out adjacency list object as a .pickle \n",
    "        :param path: string\n",
    "        :return: None\n",
    "        \"\"\"\n",
    "        with open(path, 'wb') as handle:\n",
    "            pickle.dump(self.adjacency_list, handle)\n",
    "        print(\"finished writing adjacency list as \"+ path)            \n"
   ]
  },
  {
   "cell_type": "markdown",
   "metadata": {},
   "source": [
    "### Explore the Adjacency List data structure \n",
    "\n",
    "The Graph will be represented internally within the class in a data structure known as an adjaceny list.  \n",
    "\n",
    "Before you start implementation, load the sample serialized adjacency list from the hw1-skeleton and explore what you will be building.  The next block initializes a `Graph` object with a serialized adjacency list.  The intent is to show the correct format of the adjacency list and to become familiar with its structure.  You will construct your own adjacency list to represent a graph of the data that you download from Rebrickable. \n",
    "\n",
    "You do not need to write any code for the next cell to work! Simply run the cell and explore the data structure."
   ]
  },
  {
   "cell_type": "code",
   "execution_count": 3,
   "metadata": {
    "pycharm": {
     "is_executing": false,
     "name": "#%%\n"
    }
   },
   "outputs": [
    {
     "name": "stdout",
     "output_type": "stream",
     "text": [
      "nodes: 56\n",
      "edges: 98\n",
      "------------------ADJACENCY--LIST---------------------\n",
      "BIGBOX-1: {'4274', '3023', '43093', '6558', '2780'}\n",
      "2780: set()\n",
      "3023: set()\n",
      "43093: set()\n",
      "4274: set()\n",
      "6558: set()\n",
      "75192-1: {'3023', '15712', '2412b', '3021', '2780'}\n",
      "2412b: set()\n",
      "3021: set()\n",
      "15712: set()\n",
      "71043-1: {'54200', '3005', '3023', '3024', '6141'}\n",
      "3024: set()\n",
      "54200: set()\n",
      "6141: set()\n",
      "3005: set()\n",
      "10256-1: {'3005', '2877', '3062b', '3023', '3024'}\n",
      "3062b: set()\n",
      "2877: set()\n",
      "10189-1: {'3005', '2877', '3062b', '3023', '3024'}\n",
      "SWMP-1: {'3023', '3068b', '3024', '3020', '3710'}\n",
      "3710: set()\n",
      "3020: set()\n",
      "3068b: set()\n",
      "2000409-1: {'3010', '3005pr0003', '4286', '3957b', '3004'}\n",
      "3010: set()\n",
      "3004: set()\n",
      "3005pr0003: set()\n",
      "3957b: set()\n",
      "4286: set()\n",
      "10179-1: {'3023', '3068b', '3021', '2780', '3710'}\n",
      "70620-1: {'3622', '3069b', '3023', '3004', '3024'}\n",
      "3069b: set()\n",
      "3622: set()\n",
      "75252-1: {'15573', '3069b', '3023', '2412b', '6558'}\n",
      "15573: set()\n",
      "75827-1: {'3010', '3005', '3069b', '3023', '3004'}\n",
      "40179-1: {'4186', '96874', '3024'}\n",
      "4186: set()\n",
      "96874: set()\n",
      "10214-1: {'3666', '54200', '3005', '3023', '3024'}\n",
      "3666: set()\n",
      "10253-1: {'3666', '3005', '3023', '3024', '32028'}\n",
      "32028: set()\n",
      "10261-1: {'3941', '92280', '87580', '3023', '14696'}\n",
      "3941: set()\n",
      "14696: set()\n",
      "92280: set()\n",
      "87580: set()\n",
      "42100-1: {'3941', '11214', '43093', '6558', '2780'}\n",
      "11214: set()\n",
      "71040-1: {'15573', '3069b', '3023', '3068b', '6141'}\n",
      "42082-1: {'32054', '32140', '43093', '6558', '2780'}\n",
      "32140: set()\n",
      "32054: set()\n",
      "75159-1: {'3023', '3020', '3021', '3004', '6141'}\n",
      "10255-1: {'15573', '3005', '3069b', '3023', '3024'}\n"
     ]
    }
   ],
   "source": [
    "graph = Graph(with_file=\"graph.pickle\")\n",
    "graph.show_graph_info()"
   ]
  },
  {
   "cell_type": "markdown",
   "metadata": {},
   "source": [
    "The adjacency list data structure is a dictionary where each key is a string and the value is a set.  There exists one key for each node in the graph.  Watch Chris Pryby's comparison of directed and un-directed adjacency lists [here](https://youtu.be/_nHAa3j8xTE?t=496)\n",
    "\n",
    "This is a directed graph: \n",
    "- Each Lego Set is a source node with an out-degree > 0 and an in-degree = 0\n",
    "- Each Lego Part is a sink (target) with an in-degree > 0 and an out-degree = 0"
   ]
  },
  {
   "cell_type": "markdown",
   "metadata": {},
   "source": [
    "## b. [17 pts] Building and producing a graph \n",
    "To build the graph, you will implement 3 functions: \n",
    "- `get_sets()`\n",
    "- `get_top_parts()`\n",
    "- `build_graph()`\n",
    "\n",
    "The first two methods, `get_sets()` and `get_top_parts()` will be used within the `build_graph()` method.  During grading, we will supply different arguments to the method calls than used within the assignment to verify proper function and to discourage hard-coding of results.   \n",
    "\n",
    "At the end of this part, you will save your graph as a _.pickle_ file and as a _.csv_ edges file using the provided utility functions.  "
   ]
  },
  {
   "cell_type": "markdown",
   "metadata": {
    "pycharm": {
     "name": "#%% md\n"
    }
   },
   "source": [
    "### i. [1 pt] Ensure all API calls use the `self.api_key` instance variable in the `Graph` class.\n",
    "\n",
    "<div class=\"alert alert-block alert-info\">\n",
    "    <b>Note:</b> During auto-grading we will replace your api key with our own.  \n",
    "    <br />\n",
    "</div>\n",
    "\n",
    "\n",
    "\n",
    "For this reason, your class **must** use the `self.api_key` instance variable _anytime_ you need to download data. _e.g_., you will likely need to refer this instance variable for `get_sets()`  or `get_top_parts()`.    \n",
    "During grading, we will call your code in a manner similar to: "
   ]
  },
  {
   "cell_type": "code",
   "execution_count": 4,
   "metadata": {
    "pycharm": {
     "name": "#%%\n"
    }
   },
   "outputs": [],
   "source": [
    "graph = Graph()\n",
    "graph.api_key = '5800fd01e97058e08d11c81efa656ba5'\n",
    "sets = graph.get_sets(5,  \"-num_parts\")\n",
    "# etc..."
   ]
  },
  {
   "cell_type": "markdown",
   "metadata": {
    "pycharm": {
     "name": "#%% md\n"
    }
   },
   "source": [
    "After you complete the assignment, you may delete all instances of your api key from this Jupyter notebook.  Remember that we will only import and run your `Graph` class.   "
   ]
  },
  {
   "cell_type": "markdown",
   "metadata": {
    "pycharm": {
     "name": "#%% md\n"
    }
   },
   "source": [
    "### ii. [5 pts] Get Lego sets from the Rebrickable API in the `get_sets()` method.  \n",
    "\n",
    "In the Rebrickable API documentation, locate the call that will **get a list of sets.**\n",
    "\n",
    "Implement the method `get_sets()` above in the `Graph` class to download the Lego Set numbers.\n",
    "The method signature **must** accept the arguments `quantity` and `order_by` where:\n",
    "- `quantity` is a positive integer that determines the number of sets downloaded\n",
    "- `order_by` is a string specifying how the API should sort the returned data.  \n",
    "\n",
    "You will need to specify how to sort the data using the `order_by` argument so that the Sets are organized by the number of parts in descending order.  \n",
    "\n",
    "Within the returned data, note that a Lego Set Number is given by the string `set_num` . The `get_sets()` method **must** return a list of `set_num`[s] of length specified by `quantity`."
   ]
  },
  {
   "cell_type": "code",
   "execution_count": 5,
   "metadata": {
    "pycharm": {
     "is_executing": false,
     "name": "#%%\n"
    }
   },
   "outputs": [
    {
     "name": "stdout",
     "output_type": "stream",
     "text": [
      "['BIGBOX-1', '75192-1', '71043-1', '10256-1', '10189-1']\n"
     ]
    }
   ],
   "source": [
    "graph = Graph()\n",
    "graph.api_key = '5800fd01e97058e08d11c81efa656ba5' # replace with your api key  \n",
    "lego_sets = graph.get_sets(quantity=5, order_by=\"-num_parts\")\n",
    "print(lego_sets)\n",
    "\n",
    "# The following is sample output and is used only to exemplify the format of the results for this cell, \n",
    "# you may comment out or delete the the line below.\n",
    "\n",
    "#print(\"\\n---------sample-output-from-lego-sets----------\")\n",
    "#print(['20112-3', '9994-2', 'ST03-2', '4423-01', '55907'])"
   ]
  },
  {
   "cell_type": "markdown",
   "metadata": {
    "pycharm": {
     "name": "#%% md\n"
    }
   },
   "source": [
    "### iii. [5 pts] Get the Lego Parts with the highest quantities in a given Lego Set inventory.  \n",
    "\n",
    "In the Rebrickable API documentation, locate the call that will **get a list of all Inventory Parts for a Set**\n",
    " \n",
    "Implement the method `get_top_parts()` in the `Graph` class to download this data.  Each part returned will contain a `quantity` value specifying how many parts are present in the set. You will be required to handle pagination within the API calls to return all of the data.  To minimize the number of pages, we recommend that you set the API `page_size` parameter to the maximum allowable value.\n",
    "\n",
    "You **must** filter and sort this data to meet the following requirements:\n",
    "\n",
    "1. Discard any part that has a value of `'is_spare' : true`. (This removes most of the duplicate `part_num`s)    \n",
    "After removing the top_parts where is_spare = True, **you may still be left with some duplicate part_nums to handle**.  In this case, sum the quantity of any duplicate part_nums.\n",
    "\n",
    "    e.g., Here is a list of parts with some duplicates:\n",
    "\n",
    "    `{part_num: ‘p2335’, quantity: 17},`\n",
    "\n",
    "    `{part_num: ‘p2335’, quantity: 5},`\n",
    "\n",
    "    `{part_num: ‘p55’: quantity: 4}`\n",
    "\n",
    "    In this case, sum the quantity of the part with `part_num 'p2335'` and ensure that the final list has unique part_nums:\n",
    "\n",
    "    List of parts duplicates merged:\n",
    "\n",
    "    `{part_num: ‘p2335’, quantity: 22},`\n",
    "\n",
    "    `{part_num: ‘p55’: quantity: 4}`\n",
    "    \n",
    "\n",
    "2. Sort the data to return the parts with the highest quantity value.\n",
    "    \n",
    "    e.g., Here are some sample parts data for a Lego Set that has the following 3 parts. \n",
    "\n",
    "    `{'part_num': '222', 'quantity': 25, 'is_spare': false},`\n",
    "\n",
    "    `{'part_num': '333', 'quantity': 22, 'is_spare': false},`\n",
    "\n",
    "    `{'part_num': '444', 'quantity': 21, 'is_spare': false}`  \n",
    "\n",
    "    Suppose that we have passed `max_top_parts` = 2.  In this case, return the 2 parts, i.e., `part_num` '222' and '333' becuase they have the highest quantities for the set.   \n",
    "\n",
    "\n",
    "The method signature **must** accept the arguments `set_num` and `max_top_parts` where:\n",
    "- `set_num` is a string representing a valid `set_num` in the Rebrickable database. \n",
    "- `max_top_parts` is a positive integer specifying how many of the top parts must be retrieved for the `set_num`\n",
    "\n",
    "Within the returned data, note that a Lego Part Number is given by the string `part_num`. The `get_top_parts()` **must** returns a list of `part_num`[s] of length specified by `max_top_parts`."
   ]
  },
  {
   "cell_type": "code",
   "execution_count": 6,
   "metadata": {
    "pycharm": {
     "is_executing": false,
     "name": "#%%\n"
    }
   },
   "outputs": [
    {
     "name": "stdout",
     "output_type": "stream",
     "text": [
      "['3024', '3023', '54200', '6141', '3005']\n"
     ]
    }
   ],
   "source": [
    "# this will take several seconds to complete.\n",
    "graph = Graph()\n",
    "graph.api_key = '5800fd01e97058e08d11c81efa656ba5'  # replace with your api_key\n",
    "graph.get_sets(quantity=2, order_by=\"-num_parts\")\n",
    "data = graph.get_top_parts(set_num='71043-1', max_top_parts=5)\n",
    "print(data)\n",
    "\n",
    "# The following is sample output and is used only to exmplify the format of the results for this block, \n",
    "# you may comment out or delete the the line below.\n",
    "#print(\"\\n-------------sample-output-------------\")\n",
    "#print(['5600a', '7700c'])\n"
   ]
  },
  {
   "cell_type": "markdown",
   "metadata": {},
   "source": [
    "### iv. [5 pts] Build a directed graph relating Lego Sets and Lego Parts by implementing the `build_graph()` method. \n",
    "\n",
    "You will modify the `self.adjacency_list` instance variable by adding nodes and edges.  You must use the methods `get_sets()` and `get_top_parts()` within this method to retrieve the graph data. \n",
    "\n",
    "This is a directed graph: you will only represent the directed edge from the Lego Set as a source and the Lego Part as the target. The sample adjacency list you loaded earlier from \"sample_graph.pickle\" was an example of a directed graph representation.  \n",
    " \n",
    "\n",
    "The following steps demonstrate an example of how you might construct your graph in the `build_graph()` method.\n",
    "\n",
    "**FUNCTION** build graph \n",
    "> \n",
    "> Lego Sets = **CALL** get sets \n",
    "> \n",
    "> **FOR EACH** Lego Set in Lego Sets:\n",
    "> > \n",
    "> > **IF** the Lego Set is not in the adjacency list **THEN**:\n",
    "> > \n",
    "> > > add the Lego Set as a node \n",
    "> > >\n",
    "> > **ENDIF**\n",
    "> > \n",
    "> > Lego Parts = **CALL** get top parts\n",
    "> > \n",
    "> > **FOR EACH** Lego Part in Lego Parts:\t\n",
    "> > \n",
    "> > > **IF** the Lego Part is not in the adjacency list **THEN**:\n",
    "> > >\n",
    "> > > > add the Lego Part as a node\n",
    "> > > > \n",
    "> > > **ENDIF**\n",
    "> > > \n",
    "> > > add edge from the Lego Set to the Lego Part\n",
    "> >\n",
    "> > **ENDFOR** \n",
    "> \n",
    "> **ENDFOR**\n",
    ">\n",
    "**ENDFUNCTION**"
   ]
  },
  {
   "cell_type": "markdown",
   "metadata": {},
   "source": [
    "### v. [1 pt] Serialize and write your graph out as a `.pickle` and as a `.csv`.  \n",
    "\n",
    "Use the **provided** utility methods in the `Graph` class to accomplish this.  You can build your graph analysis methods by loading the _.pickle_ file to avoid having to re-download the data from Rebrickable each time.  \n",
    "\n",
    "<div class=\"alert alert-block alert-info\">\n",
    "    <b><i>graph.csv</i> will be used with Argo-Lite in Q1.2.</b>\n",
    "    <br />\n",
    "</div>\n",
    "\n",
    "Build a graph with **20** sets and with the top **5** parts for each set."
   ]
  },
  {
   "cell_type": "code",
   "execution_count": 7,
   "metadata": {
    "pycharm": {
     "is_executing": false,
     "name": "#%%\n"
    }
   },
   "outputs": [
    {
     "name": "stdout",
     "output_type": "stream",
     "text": [
      "finished writing adjacency list as graph.pickle\n",
      "finished writing edges as graph.csv\n"
     ]
    }
   ],
   "source": [
    "# this will take some time to run since it is downloading and building the entire graph.  \n",
    "graph = Graph()\n",
    "graph.api_key = '5800fd01e97058e08d11c81efa656ba5'  # replace with your api_key\n",
    "graph.build_graph(sets_quantity=20, top_parts_quantity=5, set_ordering=\"-num_parts\")\n",
    "graph.write_adjacency_list(\"graph.pickle\")\n",
    "graph.write_edges_file(\"graph.csv\")"
   ]
  },
  {
   "cell_type": "markdown",
   "metadata": {
    "pycharm": {
     "is_executing": false,
     "name": "#%% md\n"
    }
   },
   "source": [
    "## c. [10 pts] Graph Exploration and Analytics\n",
    "\n",
    "Continue implementing the `Graph` class by completing these analytics methods.  \n",
    "\n",
    " <div class=\"alert alert-block alert-info\">\n",
    "    <b>Note:</b> In each cell, a sample graph is loaded and a sample call is provided.  You may modify these calls as needed to test your code.  <i>e.g.</i>, replace 'my_graph.pickle' with <b>your own</b> 'graph.pickle', or replace the node id with a node id from your own graph.  \n",
    "</div>\n",
    "\n",
    "\n",
    "### i. [1 pt] Calculate the out-degree for a node\n",
    "Implement the `out_degree_for_node()` method.  Remember that all Lego Set nodes will have an out-degree > 0.  All Lego Parts nodes will have an out-degree = 0."
   ]
  },
  {
   "cell_type": "code",
   "execution_count": 8,
   "metadata": {
    "pycharm": {
     "is_executing": false,
     "name": "#%%\n"
    }
   },
   "outputs": [
    {
     "name": "stdout",
     "output_type": "stream",
     "text": [
      "5\n",
      "0\n"
     ]
    }
   ],
   "source": [
    "graph = Graph(with_file=\"graph.pickle\")\n",
    "print(graph.out_degree_for_node(\"75192-1\"))\n",
    "print(graph.out_degree_for_node(\"3005\"))"
   ]
  },
  {
   "cell_type": "markdown",
   "metadata": {
    "pycharm": {
     "name": "#%% md\n"
    }
   },
   "source": [
    "### ii. [2 pts] Calculate the in-degree for a node\n",
    "Implement the `in_degree_for_node()` method.  Remember that all Lego Parts will have an in-degree >0.  All Lego Sets will have an in-degree = 0."
   ]
  },
  {
   "cell_type": "code",
   "execution_count": 9,
   "metadata": {
    "pycharm": {
     "is_executing": false,
     "name": "#%%\n"
    }
   },
   "outputs": [
    {
     "name": "stdout",
     "output_type": "stream",
     "text": [
      "7\n",
      "0\n"
     ]
    }
   ],
   "source": [
    "graph = Graph(with_file=\"graph.pickle\")\n",
    "print(graph.in_degree_for_node(\"3005\"))\n",
    "print(graph.in_degree_for_node(\"75192-1\"))"
   ]
  },
  {
   "cell_type": "markdown",
   "metadata": {
    "pycharm": {
     "name": "#%% md\n"
    }
   },
   "source": [
    "### iii. [1 pt] Find and return information about the node with the highest in-degree\n",
    "\n",
    "Implement the `max_in_degree()` method.\n",
    "\n",
    "This method must return a tuple containing a `(string, integer)` pair representing the node id and the in-degree of that node.  _e.g_., `('0970', 5)` indicates that a Lego Part with part num / node id `0970` contains the highest in-degree of 5.  \n",
    "\n",
    "If you have more than one node with the same maximum in-degree, you may return any one of those nodes and its respective in-degree."
   ]
  },
  {
   "cell_type": "code",
   "execution_count": 91,
   "metadata": {
    "pycharm": {
     "is_executing": false,
     "name": "#%%\n"
    }
   },
   "outputs": [
    {
     "name": "stdout",
     "output_type": "stream",
     "text": [
      "node with highest in-degree: ('3023', 16)\n"
     ]
    }
   ],
   "source": [
    "graph = Graph(with_file=\"graph.pickle\")\n",
    "print(\"node with highest in-degree: \" + str(graph.max_in_degree()))"
   ]
  },
  {
   "cell_type": "markdown",
   "metadata": {
    "pycharm": {
     "name": "#%% md\n"
    }
   },
   "source": [
    "### iv. [2 pts] Calculate the average in-degree \n",
    "\n",
    "Implement the `average_in_degree()` method. When performing this calculation, do not include nodes that have an in-degree = 0.  _i.e_., Do not include Lego Set nodes."
   ]
  },
  {
   "cell_type": "code",
   "execution_count": 92,
   "metadata": {
    "pycharm": {
     "name": "#%%\n"
    }
   },
   "outputs": [
    {
     "name": "stdout",
     "output_type": "stream",
     "text": [
      "average in-degree: 2.7222222222222223\n"
     ]
    }
   ],
   "source": [
    "graph = Graph(with_file=\"graph.pickle\")\n",
    "print(\"average in-degree: \" + str(graph.average_in_degree()))"
   ]
  },
  {
   "cell_type": "markdown",
   "metadata": {},
   "source": [
    "**Note:** You are not required to calculate average out-degree since we have artificially limited the out-degree of each set by specifying the `top-parts` that we downloaded for it. You may implement this method to test your adjacency list.  _e.g_., no Lego Set node should have an out-degree > top_parts_quantity value passed to `get_top_parts()`"
   ]
  },
  {
   "cell_type": "markdown",
   "metadata": {
    "pycharm": {
     "name": "#%% md\n"
    }
   },
   "source": [
    "### v. [4 pts] Graph Filtering\n",
    "Filter out leaf nodes, i.e., nodes with an in-degree = 1.  Filtering the nodes is accomplished by deleting the node id from the adjacency list.  You should not be filtering out any nodes with an in-degree = 0. Please feel free to discuss the reason why in Piazza. \n",
    "\n",
    "To check your work, consider using some of the graph analytics methods you have implemented to check your graph. For example, consider that the average in-degree of your filtered graph would not be < 2.  "
   ]
  },
  {
   "cell_type": "code",
   "execution_count": 127,
   "metadata": {
    "pycharm": {
     "is_executing": false,
     "name": "#%%\n"
    }
   },
   "outputs": [
    {
     "name": "stdout",
     "output_type": "stream",
     "text": [
      "average in-degree: 3.9523809523809526\n",
      "nodes: 41\n",
      "edges: 83\n",
      "------------------ADJACENCY--LIST---------------------\n",
      "BIGBOX-1: {'3023', '2780', '6558', '43093'}\n",
      "2780: set()\n",
      "3023: set()\n",
      "43093: set()\n",
      "6558: set()\n",
      "75192-1: {'3021', '3023', '2412b', '2780'}\n",
      "2412b: set()\n",
      "3021: set()\n",
      "71043-1: {'3005', '6141', '3023', '3024', '54200'}\n",
      "3024: set()\n",
      "54200: set()\n",
      "6141: set()\n",
      "3005: set()\n",
      "10256-1: {'3005', '3062b', '3023', '3024', '2877'}\n",
      "3062b: set()\n",
      "2877: set()\n",
      "10189-1: {'3005', '3062b', '3023', '3024', '2877'}\n",
      "SWMP-1: {'3068b', '3020', '3023', '3710', '3024'}\n",
      "3710: set()\n",
      "3020: set()\n",
      "3068b: set()\n",
      "2000409-1: {'3004', '3010'}\n",
      "3010: set()\n",
      "3004: set()\n",
      "10179-1: {'3021', '3068b', '3023', '2780', '3710'}\n",
      "70620-1: {'3004', '3023', '3024', '3069b'}\n",
      "3069b: set()\n",
      "75252-1: {'15573', '2412b', '3023', '6558', '3069b'}\n",
      "15573: set()\n",
      "75827-1: {'3004', '3005', '3023', '3010', '3069b'}\n",
      "40179-1: {'3024'}\n",
      "10214-1: {'3005', '3023', '3024', '54200', '3666'}\n",
      "3666: set()\n",
      "10253-1: {'3005', '3023', '3024', '3666'}\n",
      "10261-1: {'3023', '3941'}\n",
      "3941: set()\n",
      "42100-1: {'2780', '6558', '43093', '3941'}\n",
      "71040-1: {'15573', '3068b', '6141', '3023', '3069b'}\n",
      "42082-1: {'2780', '6558', '43093'}\n",
      "75159-1: {'3004', '3021', '6141', '3020', '3023'}\n",
      "10255-1: {'15573', '3005', '3023', '3024', '3069b'}\n"
     ]
    }
   ],
   "source": [
    "graph = Graph(with_file=\"graph.pickle\")\n",
    "graph.filter_graph_min_in_degree(2)\n",
    "print(\"average in-degree: \" + str(graph.average_in_degree()))\n",
    "graph.show_graph_info()"
   ]
  },
  {
   "cell_type": "markdown",
   "metadata": {},
   "source": [
    "## d. [1 pt] Implement the user method"
   ]
  },
  {
   "cell_type": "code",
   "execution_count": 128,
   "metadata": {
    "pycharm": {
     "is_executing": false
    }
   },
   "outputs": [
    {
     "name": "stdout",
     "output_type": "stream",
     "text": [
      "yzheng420\n"
     ]
    }
   ],
   "source": [
    "print(Graph.user())"
   ]
  },
  {
   "cell_type": "code",
   "execution_count": null,
   "metadata": {},
   "outputs": [],
   "source": []
  }
 ],
 "metadata": {
  "kernelspec": {
   "display_name": "Python 3",
   "language": "python",
   "name": "python3"
  },
  "language_info": {
   "codemirror_mode": {
    "name": "ipython",
    "version": 3
   },
   "file_extension": ".py",
   "mimetype": "text/x-python",
   "name": "python",
   "nbconvert_exporter": "python",
   "pygments_lexer": "ipython3",
   "version": "3.7.3"
  },
  "pycharm": {
   "stem_cell": {
    "cell_type": "raw",
    "metadata": {
     "collapsed": false
    },
    "source": []
   }
  }
 },
 "nbformat": 4,
 "nbformat_minor": 2
}
